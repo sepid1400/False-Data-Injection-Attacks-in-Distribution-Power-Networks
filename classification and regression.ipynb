{
 "cells": [
  {
   "cell_type": "code",
   "execution_count": 1042,
   "metadata": {},
   "outputs": [
    {
     "name": "stdout",
     "output_type": "stream",
     "text": [
      "2.4.1\n"
     ]
    }
   ],
   "source": [
    "import numpy as np\n",
    "import pandas as pd\n",
    "import matplotlib.pyplot as plt\n",
    "from sklearn.preprocessing import MinMaxScaler\n",
    "from sklearn.preprocessing import StandardScaler\n",
    "import tensorflow_docs as tfdocs\n",
    "import tensorflow_docs.plots\n",
    "import tensorflow_docs.modeling\n",
    "from sklearn.model_selection import GridSearchCV\n",
    "from tensorflow.keras.layers import Input\n",
    "from tensorflow.keras.models import Sequential\n",
    "from tensorflow.keras.layers import Dense\n",
    "from tensorflow.keras.wrappers.scikit_learn import KerasRegressor\n",
    "from sklearn.model_selection import train_test_split\n",
    "from tensorflow.keras.layers import Dropout\n",
    "import tensorflow as tf\n",
    "from tensorflow import keras\n",
    "from tensorflow.keras import layers\n",
    "from tensorflow.keras import utils\n",
    "print(tf.__version__)\n",
    "from sklearn import preprocessing\n",
    "from sklearn.preprocessing import MinMaxScaler\n",
    "from tensorflow.keras.models import Model\n",
    "from numpy import unique\n",
    "from sklearn.preprocessing import LabelEncoder\n",
    "from tensorflow.keras.utils import plot_model"
   ]
  },
  {
   "cell_type": "code",
   "execution_count": 1043,
   "metadata": {},
   "outputs": [],
   "source": [
    "DATAattack=pd.read_excel (r'C:\\Users\\f52z326\\OneDrive - Montana State University\\Desktop\\New folder (3)\\New folder (2)\\DATAattack.xlsx')"
   ]
  },
  {
   "cell_type": "code",
   "execution_count": 1044,
   "metadata": {},
   "outputs": [
    {
     "name": "stdout",
     "output_type": "stream",
     "text": [
      "(6000, 5)\n",
      "(6000, 68)\n",
      "(6000, 5)\n"
     ]
    }
   ],
   "source": [
    "X = DATAattack.iloc[:,0:5]\n",
    "y = DATAattack.iloc[:,10:78]\n",
    "ya = DATAattack.iloc[:,78:83]\n",
    "print(X.shape)\n",
    "print(y.shape)\n",
    "print(ya.shape)\n",
    "n_features=X.shape[1]"
   ]
  },
  {
   "cell_type": "code",
   "execution_count": 1045,
   "metadata": {},
   "outputs": [],
   "source": [
    "scaler = StandardScaler()\n",
    "# fit scaler on data\n",
    "scaler.fit(X)\n",
    "# apply transform\n",
    "X= scaler.transform(X)\n",
    "scaler1 = StandardScaler()\n",
    "scaler1.fit(y)\n",
    "y = scaler1.transform(y)"
   ]
  },
  {
   "cell_type": "code",
   "execution_count": 1046,
   "metadata": {},
   "outputs": [
    {
     "name": "stdout",
     "output_type": "stream",
     "text": [
      "(4020, 5)\n",
      "(4020, 68)\n",
      "(4020, 5)\n"
     ]
    }
   ],
   "source": [
    "x_train, x_test, y_train, y_test,ya_train,ya_test = train_test_split(X, y,ya, test_size=0.33, random_state=1)\n",
    "print(x_train.shape)\n",
    "print(y_train.shape)\n",
    "print(ya_train.shape)\n",
    "n_features=x_train.shape[1]"
   ]
  },
  {
   "cell_type": "code",
   "execution_count": 1047,
   "metadata": {},
   "outputs": [
    {
     "data": {
      "text/plain": [
       "5"
      ]
     },
     "execution_count": 1047,
     "metadata": {},
     "output_type": "execute_result"
    }
   ],
   "source": [
    "n_features"
   ]
  },
  {
   "cell_type": "code",
   "execution_count": 1048,
   "metadata": {},
   "outputs": [],
   "source": [
    "visible = Input(shape=(n_features,))\n",
    "hidden1 = Dense(200, activation='relu', kernel_initializer='he_normal')(visible)\n",
    "hidden2 = Dense(100, activation='relu', kernel_initializer='he_normal')(hidden1)"
   ]
  },
  {
   "cell_type": "code",
   "execution_count": 1049,
   "metadata": {},
   "outputs": [
    {
     "data": {
      "text/plain": [
       "68"
      ]
     },
     "execution_count": 1049,
     "metadata": {},
     "output_type": "execute_result"
    }
   ],
   "source": [
    "y_train.shape[1]"
   ]
  },
  {
   "cell_type": "code",
   "execution_count": 1050,
   "metadata": {},
   "outputs": [],
   "source": [
    "out_reg = Dense(68, activation='linear')(hidden2)"
   ]
  },
  {
   "cell_type": "code",
   "execution_count": 1051,
   "metadata": {},
   "outputs": [],
   "source": [
    "#out_clas = Dense(8760, activation='softmax')(hidden2)\n",
    "out_clas = Dense(5, activation='softmax')(hidden2)"
   ]
  },
  {
   "cell_type": "code",
   "execution_count": 24,
   "metadata": {},
   "outputs": [
    {
     "name": "stdout",
     "output_type": "stream",
     "text": [
      "Collecting pydotplus\n",
      "  Downloading pydotplus-2.0.2.tar.gz (278 kB)\n",
      "Requirement already satisfied: pyparsing>=2.0.1 in c:\\users\\f52z326\\anaconda3\\lib\\site-packages (from pydotplus) (2.4.7)\n",
      "Building wheels for collected packages: pydotplus\n",
      "  Building wheel for pydotplus (setup.py): started\n",
      "  Building wheel for pydotplus (setup.py): finished with status 'done'\n",
      "  Created wheel for pydotplus: filename=pydotplus-2.0.2-py3-none-any.whl size=24572 sha256=a68d053c45bed5ca2fa3bd025077221b55db2b1f242a7286338655192174e065\n",
      "  Stored in directory: c:\\users\\f52z326\\appdata\\local\\pip\\cache\\wheels\\fe\\cd\\78\\a7e873cc049759194f8271f780640cf96b35e5a48bef0e2f36\n",
      "Successfully built pydotplus\n",
      "Installing collected packages: pydotplus\n",
      "Successfully installed pydotplus-2.0.2\n",
      "Note: you may need to restart the kernel to use updated packages.\n"
     ]
    }
   ],
   "source": [
    " pip install pydotplus"
   ]
  },
  {
   "cell_type": "code",
   "execution_count": 25,
   "metadata": {},
   "outputs": [
    {
     "name": "stdout",
     "output_type": "stream",
     "text": [
      "Collecting package metadata (current_repodata.json): ...working... done\n",
      "Solving environment: ...working... done\n",
      "\n",
      "## Package Plan ##\n",
      "\n",
      "  environment location: C:\\Users\\f52z326\\Anaconda3\n",
      "\n",
      "  added / updated specs:\n",
      "    - graphviz=2.38.0\n",
      "\n",
      "\n",
      "The following packages will be downloaded:\n",
      "\n",
      "    package                    |            build\n",
      "    ---------------------------|-----------------\n",
      "    ca-certificates-2020.10.14 |                0         159 KB  anaconda\n",
      "    conda-4.12.0               |   py38haa95532_0        14.5 MB\n",
      "    graphviz-2.38              |       hfd603c8_2        37.7 MB  anaconda\n",
      "    openssl-1.1.1h             |       he774522_0         5.8 MB  anaconda\n",
      "    ------------------------------------------------------------\n",
      "                                           Total:        58.1 MB\n",
      "\n",
      "The following NEW packages will be INSTALLED:\n",
      "\n",
      "  graphviz           anaconda/win-64::graphviz-2.38-hfd603c8_2\n",
      "\n",
      "The following packages will be UPDATED:\n",
      "\n",
      "  conda                               4.11.0-py38haa95532_0 --> 4.12.0-py38haa95532_0\n",
      "\n",
      "The following packages will be SUPERSEDED by a higher-priority channel:\n",
      "\n",
      "  ca-certificates                                 pkgs/main --> anaconda\n",
      "  openssl                                         pkgs/main --> anaconda\n",
      "\n",
      "\n",
      "\n",
      "Downloading and Extracting Packages\n",
      "\n",
      "openssl-1.1.1h       | 5.8 MB    |            |   0% \n",
      "openssl-1.1.1h       | 5.8 MB    |            |   0% \n",
      "openssl-1.1.1h       | 5.8 MB    | #########3 |  93% \n",
      "openssl-1.1.1h       | 5.8 MB    | ########## | 100% \n",
      "\n",
      "ca-certificates-2020 | 159 KB    |            |   0% \n",
      "ca-certificates-2020 | 159 KB    | ########## | 100% \n",
      "ca-certificates-2020 | 159 KB    | ########## | 100% \n",
      "\n",
      "conda-4.12.0         | 14.5 MB   |            |   0% \n",
      "conda-4.12.0         | 14.5 MB   |            |   0% \n",
      "conda-4.12.0         | 14.5 MB   | 4          |   4% \n",
      "conda-4.12.0         | 14.5 MB   | ###5       |  35% \n",
      "conda-4.12.0         | 14.5 MB   | ########9  |  90% \n",
      "conda-4.12.0         | 14.5 MB   | ########## | 100% \n",
      "\n",
      "graphviz-2.38        | 37.7 MB   |            |   0% \n",
      "graphviz-2.38        | 37.7 MB   | 1          |   2% \n",
      "graphviz-2.38        | 37.7 MB   | 3          |   3% \n",
      "graphviz-2.38        | 37.7 MB   | 8          |   9% \n",
      "graphviz-2.38        | 37.7 MB   | #1         |  11% \n",
      "graphviz-2.38        | 37.7 MB   | ###6       |  36% \n",
      "graphviz-2.38        | 37.7 MB   | #####7     |  57% \n",
      "graphviz-2.38        | 37.7 MB   | ########   |  80% \n",
      "graphviz-2.38        | 37.7 MB   | ########## | 100% \n",
      "graphviz-2.38        | 37.7 MB   | ########## | 100% \n",
      "Preparing transaction: ...working... done\n",
      "Verifying transaction: ...working... done\n",
      "Executing transaction: ...working... done\n",
      "\n",
      "Note: you may need to restart the kernel to use updated packages.\n"
     ]
    }
   ],
   "source": [
    "conda install -c anaconda graphviz=2.38.0"
   ]
  },
  {
   "cell_type": "code",
   "execution_count": 27,
   "metadata": {},
   "outputs": [
    {
     "name": "stdout",
     "output_type": "stream",
     "text": [
      "Requirement already satisfied: pydot in c:\\users\\f52z326\\anaconda3\\lib\\site-packages (1.4.2)\n",
      "Requirement already satisfied: pyparsing>=2.1.4 in c:\\users\\f52z326\\anaconda3\\lib\\site-packages (from pydot) (2.4.7)\n",
      "Note: you may need to restart the kernel to use updated packages.\n"
     ]
    }
   ],
   "source": [
    "pip install pydot"
   ]
  },
  {
   "cell_type": "code",
   "execution_count": 1052,
   "metadata": {},
   "outputs": [
    {
     "data": {
      "image/png": "[encoded data removed]",
      "text/plain": [
       "<IPython.core.display.Image object>"
      ]
     },
     "execution_count": 1052,
     "metadata": {},
     "output_type": "execute_result"
    }
   ],
   "source": [
    "model = Model(inputs=visible, outputs=[out_reg, out_clas])\n",
    "tf.keras.utils.plot_model(model)"
   ]
  },
  {
   "cell_type": "code",
   "execution_count": 1053,
   "metadata": {},
   "outputs": [],
   "source": [
    "model.compile(loss=['mse','categorical_crossentropy'], metrics=['mae','mse'],optimizer='SGD')"
   ]
  },
  {
   "cell_type": "code",
   "execution_count": 1054,
   "metadata": {},
   "outputs": [
    {
     "data": {
      "text/plain": [
       "[array([[-0.44672206, -0.6132491 , -1.030193  ,  1.5786815 , -0.5421294 ,\n",
       "          0.8018384 ,  0.8665696 , -1.9030236 ,  0.6103785 ,  0.3903808 ,\n",
       "         -0.5852562 ,  2.650032  ,  0.31517363, -0.28965792, -0.31223065,\n",
       "         -0.46627504, -0.7446203 ,  1.6146872 ,  2.0379515 , -0.06213626,\n",
       "         -1.128218  ,  0.09143376,  0.4464783 ,  0.7837953 , -1.4906479 ,\n",
       "          0.19809043,  0.9869286 ,  0.01065606,  1.0809283 ,  0.21225506,\n",
       "         -0.19158989, -0.29719514,  0.2302812 ,  0.30126798, -0.99969435,\n",
       "         -0.14682066,  2.2514236 ,  0.5585688 , -2.4389346 , -1.1420728 ,\n",
       "         -1.6774793 ,  0.13232623,  0.7826575 ,  0.6165801 , -1.0490906 ,\n",
       "          1.6216265 ,  0.20473787,  0.86421347,  0.5512133 ,  0.00730598,\n",
       "          0.14674991,  0.34869128,  1.2240926 , -0.98542225,  0.36591268,\n",
       "         -0.6773504 ,  0.02654487, -0.88999176, -0.1578048 , -1.0468007 ,\n",
       "          0.75386894, -1.0133302 , -0.56289315,  1.3825947 , -0.39120334,\n",
       "         -0.8331228 ,  1.3946469 ,  1.3395513 ],\n",
       "        [-0.44672206, -0.6132491 , -1.030193  ,  1.5786815 , -0.5421294 ,\n",
       "          0.8018384 ,  0.8665696 , -1.9030236 ,  0.6103785 ,  0.3903808 ,\n",
       "         -0.5852562 ,  2.650032  ,  0.31517363, -0.28965792, -0.31223065,\n",
       "         -0.46627504, -0.7446203 ,  1.6146872 ,  2.0379515 , -0.06213626,\n",
       "         -1.128218  ,  0.09143376,  0.4464783 ,  0.7837953 , -1.4906479 ,\n",
       "          0.19809043,  0.9869286 ,  0.01065606,  1.0809283 ,  0.21225506,\n",
       "         -0.19158989, -0.29719514,  0.2302812 ,  0.30126798, -0.99969435,\n",
       "         -0.14682066,  2.2514236 ,  0.5585688 , -2.4389346 , -1.1420728 ,\n",
       "         -1.6774793 ,  0.13232623,  0.7826575 ,  0.6165801 , -1.0490906 ,\n",
       "          1.6216265 ,  0.20473787,  0.86421347,  0.5512133 ,  0.00730598,\n",
       "          0.14674991,  0.34869128,  1.2240926 , -0.98542225,  0.36591268,\n",
       "         -0.6773504 ,  0.02654487, -0.88999176, -0.1578048 , -1.0468007 ,\n",
       "          0.75386894, -1.0133302 , -0.56289315,  1.3825947 , -0.39120334,\n",
       "         -0.8331228 ,  1.3946469 ,  1.3395513 ],\n",
       "        [-0.44672206, -0.6132491 , -1.030193  ,  1.5786815 , -0.5421294 ,\n",
       "          0.8018384 ,  0.8665696 , -1.9030236 ,  0.6103785 ,  0.3903808 ,\n",
       "         -0.5852562 ,  2.650032  ,  0.31517363, -0.28965792, -0.31223065,\n",
       "         -0.46627504, -0.7446203 ,  1.6146872 ,  2.0379515 , -0.06213626,\n",
       "         -1.128218  ,  0.09143376,  0.4464783 ,  0.7837953 , -1.4906479 ,\n",
       "          0.19809043,  0.9869286 ,  0.01065606,  1.0809283 ,  0.21225506,\n",
       "         -0.19158989, -0.29719514,  0.2302812 ,  0.30126798, -0.99969435,\n",
       "         -0.14682066,  2.2514236 ,  0.5585688 , -2.4389346 , -1.1420728 ,\n",
       "         -1.6774793 ,  0.13232623,  0.7826575 ,  0.6165801 , -1.0490906 ,\n",
       "          1.6216265 ,  0.20473787,  0.86421347,  0.5512133 ,  0.00730598,\n",
       "          0.14674991,  0.34869128,  1.2240926 , -0.98542225,  0.36591268,\n",
       "         -0.6773504 ,  0.02654487, -0.88999176, -0.1578048 , -1.0468007 ,\n",
       "          0.75386894, -1.0133302 , -0.56289315,  1.3825947 , -0.39120334,\n",
       "         -0.8331228 ,  1.3946469 ,  1.3395513 ],\n",
       "        [-0.44672206, -0.6132491 , -1.030193  ,  1.5786815 , -0.5421294 ,\n",
       "          0.8018384 ,  0.8665696 , -1.9030236 ,  0.6103785 ,  0.3903808 ,\n",
       "         -0.5852562 ,  2.650032  ,  0.31517363, -0.28965792, -0.31223065,\n",
       "         -0.46627504, -0.7446203 ,  1.6146872 ,  2.0379515 , -0.06213626,\n",
       "         -1.128218  ,  0.09143376,  0.4464783 ,  0.7837953 , -1.4906479 ,\n",
       "          0.19809043,  0.9869286 ,  0.01065606,  1.0809283 ,  0.21225506,\n",
       "         -0.19158989, -0.29719514,  0.2302812 ,  0.30126798, -0.99969435,\n",
       "         -0.14682066,  2.2514236 ,  0.5585688 , -2.4389346 , -1.1420728 ,\n",
       "         -1.6774793 ,  0.13232623,  0.7826575 ,  0.6165801 , -1.0490906 ,\n",
       "          1.6216265 ,  0.20473787,  0.86421347,  0.5512133 ,  0.00730598,\n",
       "          0.14674991,  0.34869128,  1.2240926 , -0.98542225,  0.36591268,\n",
       "         -0.6773504 ,  0.02654487, -0.88999176, -0.1578048 , -1.0468007 ,\n",
       "          0.75386894, -1.0133302 , -0.56289315,  1.3825947 , -0.39120334,\n",
       "         -0.8331228 ,  1.3946469 ,  1.3395513 ],\n",
       "        [-0.44672206, -0.6132491 , -1.030193  ,  1.5786815 , -0.5421294 ,\n",
       "          0.8018384 ,  0.8665696 , -1.9030236 ,  0.6103785 ,  0.3903808 ,\n",
       "         -0.5852562 ,  2.650032  ,  0.31517363, -0.28965792, -0.31223065,\n",
       "         -0.46627504, -0.7446203 ,  1.6146872 ,  2.0379515 , -0.06213626,\n",
       "         -1.128218  ,  0.09143376,  0.4464783 ,  0.7837953 , -1.4906479 ,\n",
       "          0.19809043,  0.9869286 ,  0.01065606,  1.0809283 ,  0.21225506,\n",
       "         -0.19158989, -0.29719514,  0.2302812 ,  0.30126798, -0.99969435,\n",
       "         -0.14682066,  2.2514236 ,  0.5585688 , -2.4389346 , -1.1420728 ,\n",
       "         -1.6774793 ,  0.13232623,  0.7826575 ,  0.6165801 , -1.0490906 ,\n",
       "          1.6216265 ,  0.20473787,  0.86421347,  0.5512133 ,  0.00730598,\n",
       "          0.14674991,  0.34869128,  1.2240926 , -0.98542225,  0.36591268,\n",
       "         -0.6773504 ,  0.02654487, -0.88999176, -0.1578048 , -1.0468007 ,\n",
       "          0.75386894, -1.0133302 , -0.56289315,  1.3825947 , -0.39120334,\n",
       "         -0.8331228 ,  1.3946469 ,  1.3395513 ],\n",
       "        [-0.44672206, -0.6132491 , -1.030193  ,  1.5786815 , -0.5421294 ,\n",
       "          0.8018384 ,  0.8665696 , -1.9030236 ,  0.6103785 ,  0.3903808 ,\n",
       "         -0.5852562 ,  2.650032  ,  0.31517363, -0.28965792, -0.31223065,\n",
       "         -0.46627504, -0.7446203 ,  1.6146872 ,  2.0379515 , -0.06213626,\n",
       "         -1.128218  ,  0.09143376,  0.4464783 ,  0.7837953 , -1.4906479 ,\n",
       "          0.19809043,  0.9869286 ,  0.01065606,  1.0809283 ,  0.21225506,\n",
       "         -0.19158989, -0.29719514,  0.2302812 ,  0.30126798, -0.99969435,\n",
       "         -0.14682066,  2.2514236 ,  0.5585688 , -2.4389346 , -1.1420728 ,\n",
       "         -1.6774793 ,  0.13232623,  0.7826575 ,  0.6165801 , -1.0490906 ,\n",
       "          1.6216265 ,  0.20473787,  0.86421347,  0.5512133 ,  0.00730598,\n",
       "          0.14674991,  0.34869128,  1.2240926 , -0.98542225,  0.36591268,\n",
       "         -0.6773504 ,  0.02654487, -0.88999176, -0.1578048 , -1.0468007 ,\n",
       "          0.75386894, -1.0133302 , -0.56289315,  1.3825947 , -0.39120334,\n",
       "         -0.8331228 ,  1.3946469 ,  1.3395513 ],\n",
       "        [-0.44672206, -0.6132491 , -1.030193  ,  1.5786815 , -0.5421294 ,\n",
       "          0.8018384 ,  0.8665696 , -1.9030236 ,  0.6103785 ,  0.3903808 ,\n",
       "         -0.5852562 ,  2.650032  ,  0.31517363, -0.28965792, -0.31223065,\n",
       "         -0.46627504, -0.7446203 ,  1.6146872 ,  2.0379515 , -0.06213626,\n",
       "         -1.128218  ,  0.09143376,  0.4464783 ,  0.7837953 , -1.4906479 ,\n",
       "          0.19809043,  0.9869286 ,  0.01065606,  1.0809283 ,  0.21225506,\n",
       "         -0.19158989, -0.29719514,  0.2302812 ,  0.30126798, -0.99969435,\n",
       "         -0.14682066,  2.2514236 ,  0.5585688 , -2.4389346 , -1.1420728 ,\n",
       "         -1.6774793 ,  0.13232623,  0.7826575 ,  0.6165801 , -1.0490906 ,\n",
       "          1.6216265 ,  0.20473787,  0.86421347,  0.5512133 ,  0.00730598,\n",
       "          0.14674991,  0.34869128,  1.2240926 , -0.98542225,  0.36591268,\n",
       "         -0.6773504 ,  0.02654487, -0.88999176, -0.1578048 , -1.0468007 ,\n",
       "          0.75386894, -1.0133302 , -0.56289315,  1.3825947 , -0.39120334,\n",
       "         -0.8331228 ,  1.3946469 ,  1.3395513 ],\n",
       "        [-0.44672206, -0.6132491 , -1.030193  ,  1.5786815 , -0.5421294 ,\n",
       "          0.8018384 ,  0.8665696 , -1.9030236 ,  0.6103785 ,  0.3903808 ,\n",
       "         -0.5852562 ,  2.650032  ,  0.31517363, -0.28965792, -0.31223065,\n",
       "         -0.46627504, -0.7446203 ,  1.6146872 ,  2.0379515 , -0.06213626,\n",
       "         -1.128218  ,  0.09143376,  0.4464783 ,  0.7837953 , -1.4906479 ,\n",
       "          0.19809043,  0.9869286 ,  0.01065606,  1.0809283 ,  0.21225506,\n",
       "         -0.19158989, -0.29719514,  0.2302812 ,  0.30126798, -0.99969435,\n",
       "         -0.14682066,  2.2514236 ,  0.5585688 , -2.4389346 , -1.1420728 ,\n",
       "         -1.6774793 ,  0.13232623,  0.7826575 ,  0.6165801 , -1.0490906 ,\n",
       "          1.6216265 ,  0.20473787,  0.86421347,  0.5512133 ,  0.00730598,\n",
       "          0.14674991,  0.34869128,  1.2240926 , -0.98542225,  0.36591268,\n",
       "         -0.6773504 ,  0.02654487, -0.88999176, -0.1578048 , -1.0468007 ,\n",
       "          0.75386894, -1.0133302 , -0.56289315,  1.3825947 , -0.39120334,\n",
       "         -0.8331228 ,  1.3946469 ,  1.3395513 ],\n",
       "        [-0.44672206, -0.6132491 , -1.030193  ,  1.5786815 , -0.5421294 ,\n",
       "          0.8018384 ,  0.8665696 , -1.9030236 ,  0.6103785 ,  0.3903808 ,\n",
       "         -0.5852562 ,  2.650032  ,  0.31517363, -0.28965792, -0.31223065,\n",
       "         -0.46627504, -0.7446203 ,  1.6146872 ,  2.0379515 , -0.06213626,\n",
       "         -1.128218  ,  0.09143376,  0.4464783 ,  0.7837953 , -1.4906479 ,\n",
       "          0.19809043,  0.9869286 ,  0.01065606,  1.0809283 ,  0.21225506,\n",
       "         -0.19158989, -0.29719514,  0.2302812 ,  0.30126798, -0.99969435,\n",
       "         -0.14682066,  2.2514236 ,  0.5585688 , -2.4389346 , -1.1420728 ,\n",
       "         -1.6774793 ,  0.13232623,  0.7826575 ,  0.6165801 , -1.0490906 ,\n",
       "          1.6216265 ,  0.20473787,  0.86421347,  0.5512133 ,  0.00730598,\n",
       "          0.14674991,  0.34869128,  1.2240926 , -0.98542225,  0.36591268,\n",
       "         -0.6773504 ,  0.02654487, -0.88999176, -0.1578048 , -1.0468007 ,\n",
       "          0.75386894, -1.0133302 , -0.56289315,  1.3825947 , -0.39120334,\n",
       "         -0.8331228 ,  1.3946469 ,  1.3395513 ],\n",
       "        [-0.44672206, -0.6132491 , -1.030193  ,  1.5786815 , -0.5421294 ,\n",
       "          0.8018384 ,  0.8665696 , -1.9030236 ,  0.6103785 ,  0.3903808 ,\n",
       "         -0.5852562 ,  2.650032  ,  0.31517363, -0.28965792, -0.31223065,\n",
       "         -0.46627504, -0.7446203 ,  1.6146872 ,  2.0379515 , -0.06213626,\n",
       "         -1.128218  ,  0.09143376,  0.4464783 ,  0.7837953 , -1.4906479 ,\n",
       "          0.19809043,  0.9869286 ,  0.01065606,  1.0809283 ,  0.21225506,\n",
       "         -0.19158989, -0.29719514,  0.2302812 ,  0.30126798, -0.99969435,\n",
       "         -0.14682066,  2.2514236 ,  0.5585688 , -2.4389346 , -1.1420728 ,\n",
       "         -1.6774793 ,  0.13232623,  0.7826575 ,  0.6165801 , -1.0490906 ,\n",
       "          1.6216265 ,  0.20473787,  0.86421347,  0.5512133 ,  0.00730598,\n",
       "          0.14674991,  0.34869128,  1.2240926 , -0.98542225,  0.36591268,\n",
       "         -0.6773504 ,  0.02654487, -0.88999176, -0.1578048 , -1.0468007 ,\n",
       "          0.75386894, -1.0133302 , -0.56289315,  1.3825947 , -0.39120334,\n",
       "         -0.8331228 ,  1.3946469 ,  1.3395513 ]], dtype=float32),\n",
       " array([[0.15949647, 0.32288414, 0.22304161, 0.2438429 , 0.05073483],\n",
       "        [0.15949647, 0.32288414, 0.22304161, 0.2438429 , 0.05073483],\n",
       "        [0.15949647, 0.32288414, 0.22304161, 0.2438429 , 0.05073483],\n",
       "        [0.15949647, 0.32288414, 0.22304161, 0.2438429 , 0.05073483],\n",
       "        [0.15949647, 0.32288414, 0.22304161, 0.2438429 , 0.05073483],\n",
       "        [0.15949647, 0.32288414, 0.22304161, 0.2438429 , 0.05073483],\n",
       "        [0.15949647, 0.32288414, 0.22304161, 0.2438429 , 0.05073483],\n",
       "        [0.15949647, 0.32288414, 0.22304161, 0.2438429 , 0.05073483],\n",
       "        [0.15949647, 0.32288414, 0.22304161, 0.2438429 , 0.05073483],\n",
       "        [0.15949647, 0.32288414, 0.22304161, 0.2438429 , 0.05073483]],\n",
       "       dtype=float32)]"
      ]
     },
     "execution_count": 1054,
     "metadata": {},
     "output_type": "execute_result"
    }
   ],
   "source": [
    "example_batch = x_train[:10]\n",
    "example_result = model.predict(example_batch)\n",
    "example_result"
   ]
  },
  {
   "cell_type": "code",
   "execution_count": 1055,
   "metadata": {},
   "outputs": [
    {
     "name": "stdout",
     "output_type": "stream",
     "text": [
      "\n",
      "Epoch: 0, dense_168_loss:48.1337,  dense_168_mae:1.4825,  dense_168_mse:48.1337,  dense_169_loss:0.5440,  dense_169_mae:0.2118,  dense_169_mse:0.0686,  loss:48.6777,  val_dense_168_loss:1.1090,  val_dense_168_mae:0.7757,  val_dense_168_mse:1.1090,  val_dense_169_loss:0.1802,  val_dense_169_mae:0.2134,  val_dense_169_mse:0.0535,  val_loss:1.2892,  \n",
      "....................................................................................................\n",
      "Epoch: 100, dense_168_loss:0.9956,  dense_168_mae:0.7189,  dense_168_mse:0.9956,  dense_169_loss:0.1576,  dense_169_mae:0.2118,  dense_169_mse:0.0518,  loss:1.1532,  val_dense_168_loss:1.0493,  val_dense_168_mae:0.7353,  val_dense_168_mse:1.0493,  val_dense_169_loss:0.1802,  val_dense_169_mae:0.2134,  val_dense_169_mse:0.0534,  val_loss:1.2295,  \n",
      "...................................................................................................."
     ]
    }
   ],
   "source": [
    "EPOCHS = 200\n",
    "history = model.fit(\n",
    "  x_train, [y_train,ya_train],\n",
    "  epochs=EPOCHS, validation_split = 0.2, verbose=0,\n",
    "  callbacks=[tfdocs.modeling.EpochDots()])"
   ]
  },
  {
   "cell_type": "code",
   "execution_count": 1056,
   "metadata": {},
   "outputs": [
    {
     "data": {
      "text/html": [
       "<div>\n",
       "<style scoped>\n",
       "    .dataframe tbody tr th:only-of-type {\n",
       "        vertical-align: middle;\n",
       "    }\n",
       "\n",
       "    .dataframe tbody tr th {\n",
       "        vertical-align: top;\n",
       "    }\n",
       "\n",
       "    .dataframe thead th {\n",
       "        text-align: right;\n",
       "    }\n",
       "</style>\n",
       "<table border=\"1\" class=\"dataframe\">\n",
       "  <thead>\n",
       "    <tr style=\"text-align: right;\">\n",
       "      <th></th>\n",
       "      <th>loss</th>\n",
       "      <th>dense_168_loss</th>\n",
       "      <th>dense_169_loss</th>\n",
       "      <th>dense_168_mae</th>\n",
       "      <th>dense_168_mse</th>\n",
       "      <th>dense_169_mae</th>\n",
       "      <th>dense_169_mse</th>\n",
       "      <th>val_loss</th>\n",
       "      <th>val_dense_168_loss</th>\n",
       "      <th>val_dense_169_loss</th>\n",
       "      <th>val_dense_168_mae</th>\n",
       "      <th>val_dense_168_mse</th>\n",
       "      <th>val_dense_169_mae</th>\n",
       "      <th>val_dense_169_mse</th>\n",
       "      <th>epoch</th>\n",
       "    </tr>\n",
       "  </thead>\n",
       "  <tbody>\n",
       "    <tr>\n",
       "      <th>195</th>\n",
       "      <td>1.152104</td>\n",
       "      <td>0.994464</td>\n",
       "      <td>0.157641</td>\n",
       "      <td>0.727332</td>\n",
       "      <td>0.994464</td>\n",
       "      <td>0.211754</td>\n",
       "      <td>0.051754</td>\n",
       "      <td>1.228308</td>\n",
       "      <td>1.048147</td>\n",
       "      <td>0.180161</td>\n",
       "      <td>0.743575</td>\n",
       "      <td>1.048147</td>\n",
       "      <td>0.213433</td>\n",
       "      <td>0.053433</td>\n",
       "      <td>195</td>\n",
       "    </tr>\n",
       "    <tr>\n",
       "      <th>196</th>\n",
       "      <td>1.152104</td>\n",
       "      <td>0.994464</td>\n",
       "      <td>0.157641</td>\n",
       "      <td>0.727363</td>\n",
       "      <td>0.994464</td>\n",
       "      <td>0.211754</td>\n",
       "      <td>0.051754</td>\n",
       "      <td>1.228308</td>\n",
       "      <td>1.048147</td>\n",
       "      <td>0.180161</td>\n",
       "      <td>0.743587</td>\n",
       "      <td>1.048147</td>\n",
       "      <td>0.213433</td>\n",
       "      <td>0.053433</td>\n",
       "      <td>196</td>\n",
       "    </tr>\n",
       "    <tr>\n",
       "      <th>197</th>\n",
       "      <td>1.152103</td>\n",
       "      <td>0.994462</td>\n",
       "      <td>0.157641</td>\n",
       "      <td>0.727325</td>\n",
       "      <td>0.994462</td>\n",
       "      <td>0.211754</td>\n",
       "      <td>0.051754</td>\n",
       "      <td>1.228306</td>\n",
       "      <td>1.048145</td>\n",
       "      <td>0.180161</td>\n",
       "      <td>0.743601</td>\n",
       "      <td>1.048145</td>\n",
       "      <td>0.213433</td>\n",
       "      <td>0.053433</td>\n",
       "      <td>197</td>\n",
       "    </tr>\n",
       "    <tr>\n",
       "      <th>198</th>\n",
       "      <td>1.152104</td>\n",
       "      <td>0.994462</td>\n",
       "      <td>0.157641</td>\n",
       "      <td>0.727353</td>\n",
       "      <td>0.994462</td>\n",
       "      <td>0.211754</td>\n",
       "      <td>0.051754</td>\n",
       "      <td>1.228307</td>\n",
       "      <td>1.048146</td>\n",
       "      <td>0.180161</td>\n",
       "      <td>0.743611</td>\n",
       "      <td>1.048146</td>\n",
       "      <td>0.213433</td>\n",
       "      <td>0.053433</td>\n",
       "      <td>198</td>\n",
       "    </tr>\n",
       "    <tr>\n",
       "      <th>199</th>\n",
       "      <td>1.152103</td>\n",
       "      <td>0.994462</td>\n",
       "      <td>0.157641</td>\n",
       "      <td>0.727381</td>\n",
       "      <td>0.994462</td>\n",
       "      <td>0.211754</td>\n",
       "      <td>0.051754</td>\n",
       "      <td>1.228308</td>\n",
       "      <td>1.048147</td>\n",
       "      <td>0.180161</td>\n",
       "      <td>0.743620</td>\n",
       "      <td>1.048147</td>\n",
       "      <td>0.213433</td>\n",
       "      <td>0.053433</td>\n",
       "      <td>199</td>\n",
       "    </tr>\n",
       "  </tbody>\n",
       "</table>\n",
       "</div>"
      ],
      "text/plain": [
       "         loss  dense_168_loss  dense_169_loss  dense_168_mae  dense_168_mse  \\\n",
       "195  1.152104        0.994464        0.157641       0.727332       0.994464   \n",
       "196  1.152104        0.994464        0.157641       0.727363       0.994464   \n",
       "197  1.152103        0.994462        0.157641       0.727325       0.994462   \n",
       "198  1.152104        0.994462        0.157641       0.727353       0.994462   \n",
       "199  1.152103        0.994462        0.157641       0.727381       0.994462   \n",
       "\n",
       "     dense_169_mae  dense_169_mse  val_loss  val_dense_168_loss  \\\n",
       "195       0.211754       0.051754  1.228308            1.048147   \n",
       "196       0.211754       0.051754  1.228308            1.048147   \n",
       "197       0.211754       0.051754  1.228306            1.048145   \n",
       "198       0.211754       0.051754  1.228307            1.048146   \n",
       "199       0.211754       0.051754  1.228308            1.048147   \n",
       "\n",
       "     val_dense_169_loss  val_dense_168_mae  val_dense_168_mse  \\\n",
       "195            0.180161           0.743575           1.048147   \n",
       "196            0.180161           0.743587           1.048147   \n",
       "197            0.180161           0.743601           1.048145   \n",
       "198            0.180161           0.743611           1.048146   \n",
       "199            0.180161           0.743620           1.048147   \n",
       "\n",
       "     val_dense_169_mae  val_dense_169_mse  epoch  \n",
       "195           0.213433           0.053433    195  \n",
       "196           0.213433           0.053433    196  \n",
       "197           0.213433           0.053433    197  \n",
       "198           0.213433           0.053433    198  \n",
       "199           0.213433           0.053433    199  "
      ]
     },
     "execution_count": 1056,
     "metadata": {},
     "output_type": "execute_result"
    }
   ],
   "source": [
    "hist = pd.DataFrame(history.history)\n",
    "hist['epoch'] = history.epoch\n",
    "hist.tail()"
   ]
  },
  {
   "cell_type": "code",
   "execution_count": 626,
   "metadata": {},
   "outputs": [],
   "source": [
    "#plotter = tfdocs.plots.HistoryPlotter(smoothing_std=2)"
   ]
  },
  {
   "cell_type": "code",
   "execution_count": 627,
   "metadata": {},
   "outputs": [],
   "source": [
    "#plotter.plot({'Basic': history}, metric = \"mae\")\n",
    "#plt.ylim([0, 10])\n",
    "#plt.ylabel('MAE')"
   ]
  },
  {
   "cell_type": "code",
   "execution_count": 628,
   "metadata": {},
   "outputs": [],
   "source": [
    "#model.fit(x_train, [y_train,ya_train], epochs=150, batch_size=32, verbose=2)"
   ]
  },
  {
   "cell_type": "code",
   "execution_count": 344,
   "metadata": {},
   "outputs": [],
   "source": [
    "DATAattacktest=pd.read_excel (r'C:\\Users\\f52z326\\OneDrive - Montana State University\\Desktop\\New folder (3)\\New folder (2)\\DATAattacktest.xlsx')"
   ]
  },
  {
   "cell_type": "code",
   "execution_count": 345,
   "metadata": {},
   "outputs": [
    {
     "name": "stdout",
     "output_type": "stream",
     "text": [
      "(2760, 10)\n",
      "(2760, 68)\n",
      "(2760, 10)\n"
     ]
    }
   ],
   "source": [
    "Xtest = DATAattacktest.iloc[:,0:10]\n",
    "ytest = DATAattacktest.iloc[:,10:78]\n",
    "yatest = DATAattacktest.iloc[:,78:]\n",
    "print(Xtest.shape)\n",
    "print(ytest.shape)\n",
    "print(yatest.shape)\n",
    "n_features=DATAattacktest.shape[1]"
   ]
  },
  {
   "cell_type": "code",
   "execution_count": 1057,
   "metadata": {},
   "outputs": [],
   "source": [
    "yhat1,yhat2 = model.predict(x_test)"
   ]
  },
  {
   "cell_type": "code",
   "execution_count": 960,
   "metadata": {},
   "outputs": [],
   "source": [
    "#yhat2"
   ]
  },
  {
   "cell_type": "code",
   "execution_count": 1058,
   "metadata": {},
   "outputs": [],
   "source": [
    "from sklearn.metrics import mean_absolute_error\n",
    "from sklearn.metrics import mean_squared_error"
   ]
  },
  {
   "cell_type": "code",
   "execution_count": 1059,
   "metadata": {},
   "outputs": [],
   "source": [
    "yhat1 = scaler1.inverse_transform(yhat1)"
   ]
  },
  {
   "cell_type": "code",
   "execution_count": 1060,
   "metadata": {},
   "outputs": [],
   "source": [
    "y_test= scaler1.inverse_transform(y_test)"
   ]
  },
  {
   "cell_type": "code",
   "execution_count": 1040,
   "metadata": {},
   "outputs": [],
   "source": [
    "#x_test= scaler.inverse_transform(x_test)"
   ]
  },
  {
   "cell_type": "code",
   "execution_count": 1061,
   "metadata": {},
   "outputs": [],
   "source": [
    "error = mean_absolute_error(y_test, yhat1)"
   ]
  },
  {
   "cell_type": "code",
   "execution_count": 1062,
   "metadata": {},
   "outputs": [],
   "source": [
    "error1 = mean_squared_error(y_test, yhat1)"
   ]
  },
  {
   "cell_type": "code",
   "execution_count": 1085,
   "metadata": {},
   "outputs": [
    {
     "data": {
      "text/plain": [
       "0.003774937057223442"
      ]
     },
     "execution_count": 1085,
     "metadata": {},
     "output_type": "execute_result"
    }
   ],
   "source": [
    "error1*100\n"
   ]
  },
  {
   "cell_type": "code",
   "execution_count": 1086,
   "metadata": {},
   "outputs": [
    {
     "data": {
      "text/plain": [
       "0.22840211831883808"
      ]
     },
     "execution_count": 1086,
     "metadata": {},
     "output_type": "execute_result"
    }
   ],
   "source": [
    "error*100"
   ]
  },
  {
   "cell_type": "code",
   "execution_count": 253,
   "metadata": {},
   "outputs": [],
   "source": [
    "#error *100"
   ]
  },
  {
   "cell_type": "code",
   "execution_count": 1074,
   "metadata": {},
   "outputs": [
    {
     "data": {
      "text/html": [
       "<div>\n",
       "<style scoped>\n",
       "    .dataframe tbody tr th:only-of-type {\n",
       "        vertical-align: middle;\n",
       "    }\n",
       "\n",
       "    .dataframe tbody tr th {\n",
       "        vertical-align: top;\n",
       "    }\n",
       "\n",
       "    .dataframe thead th {\n",
       "        text-align: right;\n",
       "    }\n",
       "</style>\n",
       "<table border=\"1\" class=\"dataframe\">\n",
       "  <thead>\n",
       "    <tr style=\"text-align: right;\">\n",
       "      <th></th>\n",
       "      <th>O1a</th>\n",
       "      <th>O9a</th>\n",
       "      <th>O35a</th>\n",
       "      <th>O36a</th>\n",
       "      <th>O41a</th>\n",
       "      <th>O46a</th>\n",
       "      <th>O49a</th>\n",
       "      <th>O53a</th>\n",
       "      <th>O57a</th>\n",
       "      <th>O63a</th>\n",
       "    </tr>\n",
       "  </thead>\n",
       "  <tbody>\n",
       "    <tr>\n",
       "      <th>0</th>\n",
       "      <td>0</td>\n",
       "      <td>0</td>\n",
       "      <td>0</td>\n",
       "      <td>0</td>\n",
       "      <td>0</td>\n",
       "      <td>0</td>\n",
       "      <td>0</td>\n",
       "      <td>0</td>\n",
       "      <td>0</td>\n",
       "      <td>0</td>\n",
       "    </tr>\n",
       "    <tr>\n",
       "      <th>1</th>\n",
       "      <td>0</td>\n",
       "      <td>0</td>\n",
       "      <td>0</td>\n",
       "      <td>0</td>\n",
       "      <td>0</td>\n",
       "      <td>0</td>\n",
       "      <td>0</td>\n",
       "      <td>0</td>\n",
       "      <td>0</td>\n",
       "      <td>0</td>\n",
       "    </tr>\n",
       "    <tr>\n",
       "      <th>2</th>\n",
       "      <td>0</td>\n",
       "      <td>0</td>\n",
       "      <td>0</td>\n",
       "      <td>0</td>\n",
       "      <td>0</td>\n",
       "      <td>0</td>\n",
       "      <td>0</td>\n",
       "      <td>0</td>\n",
       "      <td>0</td>\n",
       "      <td>0</td>\n",
       "    </tr>\n",
       "    <tr>\n",
       "      <th>3</th>\n",
       "      <td>0</td>\n",
       "      <td>0</td>\n",
       "      <td>0</td>\n",
       "      <td>0</td>\n",
       "      <td>0</td>\n",
       "      <td>0</td>\n",
       "      <td>0</td>\n",
       "      <td>0</td>\n",
       "      <td>0</td>\n",
       "      <td>0</td>\n",
       "    </tr>\n",
       "    <tr>\n",
       "      <th>4</th>\n",
       "      <td>0</td>\n",
       "      <td>0</td>\n",
       "      <td>0</td>\n",
       "      <td>0</td>\n",
       "      <td>0</td>\n",
       "      <td>0</td>\n",
       "      <td>0</td>\n",
       "      <td>0</td>\n",
       "      <td>0</td>\n",
       "      <td>0</td>\n",
       "    </tr>\n",
       "    <tr>\n",
       "      <th>...</th>\n",
       "      <td>...</td>\n",
       "      <td>...</td>\n",
       "      <td>...</td>\n",
       "      <td>...</td>\n",
       "      <td>...</td>\n",
       "      <td>...</td>\n",
       "      <td>...</td>\n",
       "      <td>...</td>\n",
       "      <td>...</td>\n",
       "      <td>...</td>\n",
       "    </tr>\n",
       "    <tr>\n",
       "      <th>2755</th>\n",
       "      <td>0</td>\n",
       "      <td>0</td>\n",
       "      <td>0</td>\n",
       "      <td>0</td>\n",
       "      <td>0</td>\n",
       "      <td>0</td>\n",
       "      <td>0</td>\n",
       "      <td>0</td>\n",
       "      <td>0</td>\n",
       "      <td>0</td>\n",
       "    </tr>\n",
       "    <tr>\n",
       "      <th>2756</th>\n",
       "      <td>0</td>\n",
       "      <td>0</td>\n",
       "      <td>0</td>\n",
       "      <td>0</td>\n",
       "      <td>0</td>\n",
       "      <td>0</td>\n",
       "      <td>0</td>\n",
       "      <td>0</td>\n",
       "      <td>0</td>\n",
       "      <td>0</td>\n",
       "    </tr>\n",
       "    <tr>\n",
       "      <th>2757</th>\n",
       "      <td>0</td>\n",
       "      <td>0</td>\n",
       "      <td>0</td>\n",
       "      <td>0</td>\n",
       "      <td>0</td>\n",
       "      <td>0</td>\n",
       "      <td>0</td>\n",
       "      <td>0</td>\n",
       "      <td>0</td>\n",
       "      <td>0</td>\n",
       "    </tr>\n",
       "    <tr>\n",
       "      <th>2758</th>\n",
       "      <td>0</td>\n",
       "      <td>0</td>\n",
       "      <td>0</td>\n",
       "      <td>0</td>\n",
       "      <td>0</td>\n",
       "      <td>0</td>\n",
       "      <td>0</td>\n",
       "      <td>0</td>\n",
       "      <td>0</td>\n",
       "      <td>0</td>\n",
       "    </tr>\n",
       "    <tr>\n",
       "      <th>2759</th>\n",
       "      <td>0</td>\n",
       "      <td>0</td>\n",
       "      <td>0</td>\n",
       "      <td>0</td>\n",
       "      <td>0</td>\n",
       "      <td>0</td>\n",
       "      <td>0</td>\n",
       "      <td>0</td>\n",
       "      <td>0</td>\n",
       "      <td>0</td>\n",
       "    </tr>\n",
       "  </tbody>\n",
       "</table>\n",
       "<p>2760 rows × 10 columns</p>\n",
       "</div>"
      ],
      "text/plain": [
       "      O1a  O9a  O35a  O36a  O41a  O46a  O49a  O53a  O57a  O63a\n",
       "0       0    0     0     0     0     0     0     0     0     0\n",
       "1       0    0     0     0     0     0     0     0     0     0\n",
       "2       0    0     0     0     0     0     0     0     0     0\n",
       "3       0    0     0     0     0     0     0     0     0     0\n",
       "4       0    0     0     0     0     0     0     0     0     0\n",
       "...   ...  ...   ...   ...   ...   ...   ...   ...   ...   ...\n",
       "2755    0    0     0     0     0     0     0     0     0     0\n",
       "2756    0    0     0     0     0     0     0     0     0     0\n",
       "2757    0    0     0     0     0     0     0     0     0     0\n",
       "2758    0    0     0     0     0     0     0     0     0     0\n",
       "2759    0    0     0     0     0     0     0     0     0     0\n",
       "\n",
       "[2760 rows x 10 columns]"
      ]
     },
     "execution_count": 1074,
     "metadata": {},
     "output_type": "execute_result"
    }
   ],
   "source": [
    "yatest"
   ]
  },
  {
   "cell_type": "code",
   "execution_count": 255,
   "metadata": {},
   "outputs": [],
   "source": [
    "#yhat1"
   ]
  },
  {
   "cell_type": "code",
   "execution_count": 1065,
   "metadata": {},
   "outputs": [
    {
     "name": "stdout",
     "output_type": "stream",
     "text": [
      "MAE: 0.002\n"
     ]
    }
   ],
   "source": [
    "print('MAE: %.3f' % error)"
   ]
  },
  {
   "cell_type": "code",
   "execution_count": 1066,
   "metadata": {},
   "outputs": [],
   "source": [
    "from sklearn.metrics import accuracy_score"
   ]
  },
  {
   "cell_type": "code",
   "execution_count": 430,
   "metadata": {},
   "outputs": [],
   "source": [
    "#np.shape(yhat2)"
   ]
  },
  {
   "cell_type": "code",
   "execution_count": 1067,
   "metadata": {},
   "outputs": [],
   "source": [
    "yhat2 = np.argmax(yhat2, axis=1)"
   ]
  },
  {
   "cell_type": "code",
   "execution_count": 432,
   "metadata": {},
   "outputs": [],
   "source": [
    "#np.shape(yhat2)"
   ]
  },
  {
   "cell_type": "code",
   "execution_count": 433,
   "metadata": {},
   "outputs": [],
   "source": [
    "#np.shape(yatest)"
   ]
  },
  {
   "cell_type": "code",
   "execution_count": 1068,
   "metadata": {},
   "outputs": [],
   "source": [
    "yatest2 = np.argmax(ya_test.to_numpy(),axis=1)"
   ]
  },
  {
   "cell_type": "code",
   "execution_count": 1075,
   "metadata": {},
   "outputs": [
    {
     "data": {
      "text/plain": [
       "array([0, 0, 0, ..., 0, 0, 0], dtype=int64)"
      ]
     },
     "execution_count": 1075,
     "metadata": {},
     "output_type": "execute_result"
    }
   ],
   "source": [
    "yatest2"
   ]
  },
  {
   "cell_type": "code",
   "execution_count": 1076,
   "metadata": {},
   "outputs": [
    {
     "data": {
      "text/plain": [
       "array([0, 0, 0, ..., 0, 0, 0], dtype=int64)"
      ]
     },
     "execution_count": 1076,
     "metadata": {},
     "output_type": "execute_result"
    }
   ],
   "source": [
    "yhat2"
   ]
  },
  {
   "cell_type": "code",
   "execution_count": 1069,
   "metadata": {},
   "outputs": [],
   "source": [
    "acc = accuracy_score(yatest2, yhat2)"
   ]
  },
  {
   "cell_type": "code",
   "execution_count": 1070,
   "metadata": {},
   "outputs": [],
   "source": [
    "#np.shape(yhat2)"
   ]
  },
  {
   "cell_type": "code",
   "execution_count": 1071,
   "metadata": {},
   "outputs": [],
   "source": [
    "from sklearn.metrics import confusion_matrix"
   ]
  },
  {
   "cell_type": "code",
   "execution_count": 1072,
   "metadata": {},
   "outputs": [
    {
     "data": {
      "text/plain": [
       "1.0"
      ]
     },
     "execution_count": 1072,
     "metadata": {},
     "output_type": "execute_result"
    }
   ],
   "source": [
    "acc"
   ]
  },
  {
   "cell_type": "code",
   "execution_count": 1073,
   "metadata": {},
   "outputs": [
    {
     "name": "stdout",
     "output_type": "stream",
     "text": [
      "[[1980]]\n"
     ]
    }
   ],
   "source": [
    "confusion_mat = confusion_matrix(yatest2, yhat2)\n",
    "print(confusion_mat)"
   ]
  },
  {
   "cell_type": "code",
   "execution_count": 1077,
   "metadata": {},
   "outputs": [],
   "source": [
    "def MAPE(testy,testprediction):\n",
    "    testy,testprediction1=np.array(testy),np.array(testprediction)\n",
    "    return np.mean(np.abs((testy-testprediction)/testy))*100"
   ]
  },
  {
   "cell_type": "code",
   "execution_count": 1078,
   "metadata": {},
   "outputs": [
    {
     "data": {
      "text/plain": [
       "0.2337924025552731"
      ]
     },
     "execution_count": 1078,
     "metadata": {},
     "output_type": "execute_result"
    }
   ],
   "source": [
    "MAPE(y_test, yhat1)"
   ]
  },
  {
   "cell_type": "code",
   "execution_count": 1079,
   "metadata": {},
   "outputs": [
    {
     "data": {
      "text/plain": [
       "0.9936938"
      ]
     },
     "execution_count": 1079,
     "metadata": {},
     "output_type": "execute_result"
    }
   ],
   "source": [
    "np.mean(yhat1)"
   ]
  },
  {
   "cell_type": "code",
   "execution_count": 1080,
   "metadata": {},
   "outputs": [
    {
     "data": {
      "text/plain": [
       "0.9937200306240809"
      ]
     },
     "execution_count": 1080,
     "metadata": {},
     "output_type": "execute_result"
    }
   ],
   "source": [
    "np.mean(y_test)"
   ]
  },
  {
   "cell_type": "code",
   "execution_count": 1081,
   "metadata": {},
   "outputs": [
    {
     "data": {
      "text/plain": [
       "0.005807138"
      ]
     },
     "execution_count": 1081,
     "metadata": {},
     "output_type": "execute_result"
    }
   ],
   "source": [
    "np.std(yhat1)"
   ]
  },
  {
   "cell_type": "code",
   "execution_count": 1082,
   "metadata": {},
   "outputs": [
    {
     "data": {
      "text/plain": [
       "0.008425139117646092"
      ]
     },
     "execution_count": 1082,
     "metadata": {},
     "output_type": "execute_result"
    }
   ],
   "source": [
    "np.std(y_test)"
   ]
  },
  {
   "cell_type": "code",
   "execution_count": 1084,
   "metadata": {},
   "outputs": [
    {
     "ename": "TypeError",
     "evalue": "plot_confusion_matrix() got an unexpected keyword argument 'classes'",
     "output_type": "error",
     "traceback": [
      "\u001b[1;31m---------------------------------------------------------------------------\u001b[0m",
      "\u001b[1;31mTypeError\u001b[0m                                 Traceback (most recent call last)",
      "\u001b[1;32m<ipython-input-1084-853aa425a44b>\u001b[0m in \u001b[0;36m<module>\u001b[1;34m\u001b[0m\n\u001b[0;32m      2\u001b[0m \u001b[1;32mimport\u001b[0m \u001b[0mpandas\u001b[0m \u001b[1;32mas\u001b[0m \u001b[0mpd\u001b[0m\u001b[1;33m\u001b[0m\u001b[1;33m\u001b[0m\u001b[0m\n\u001b[0;32m      3\u001b[0m \u001b[0mn\u001b[0m \u001b[1;33m=\u001b[0m \u001b[0mconfusion_matrix\u001b[0m\u001b[1;33m(\u001b[0m\u001b[0myatest2\u001b[0m\u001b[1;33m,\u001b[0m \u001b[0myhat2\u001b[0m\u001b[1;33m)\u001b[0m\u001b[1;33m\u001b[0m\u001b[1;33m\u001b[0m\u001b[0m\n\u001b[1;32m----> 4\u001b[1;33m plot_confusion_matrix(n, classes = ['Dead cat', 'Alive cat'], \n\u001b[0m\u001b[0;32m      5\u001b[0m title = 'Confusion Matrix');\n",
      "\u001b[1;32m~\\Anaconda3\\lib\\site-packages\\sklearn\\utils\\validation.py\u001b[0m in \u001b[0;36minner_f\u001b[1;34m(*args, **kwargs)\u001b[0m\n\u001b[0;32m     70\u001b[0m                           FutureWarning)\n\u001b[0;32m     71\u001b[0m         \u001b[0mkwargs\u001b[0m\u001b[1;33m.\u001b[0m\u001b[0mupdate\u001b[0m\u001b[1;33m(\u001b[0m\u001b[1;33m{\u001b[0m\u001b[0mk\u001b[0m\u001b[1;33m:\u001b[0m \u001b[0marg\u001b[0m \u001b[1;32mfor\u001b[0m \u001b[0mk\u001b[0m\u001b[1;33m,\u001b[0m \u001b[0marg\u001b[0m \u001b[1;32min\u001b[0m \u001b[0mzip\u001b[0m\u001b[1;33m(\u001b[0m\u001b[0msig\u001b[0m\u001b[1;33m.\u001b[0m\u001b[0mparameters\u001b[0m\u001b[1;33m,\u001b[0m \u001b[0margs\u001b[0m\u001b[1;33m)\u001b[0m\u001b[1;33m}\u001b[0m\u001b[1;33m)\u001b[0m\u001b[1;33m\u001b[0m\u001b[1;33m\u001b[0m\u001b[0m\n\u001b[1;32m---> 72\u001b[1;33m         \u001b[1;32mreturn\u001b[0m \u001b[0mf\u001b[0m\u001b[1;33m(\u001b[0m\u001b[1;33m**\u001b[0m\u001b[0mkwargs\u001b[0m\u001b[1;33m)\u001b[0m\u001b[1;33m\u001b[0m\u001b[1;33m\u001b[0m\u001b[0m\n\u001b[0m\u001b[0;32m     73\u001b[0m     \u001b[1;32mreturn\u001b[0m \u001b[0minner_f\u001b[0m\u001b[1;33m\u001b[0m\u001b[1;33m\u001b[0m\u001b[0m\n\u001b[0;32m     74\u001b[0m \u001b[1;33m\u001b[0m\u001b[0m\n",
      "\u001b[1;31mTypeError\u001b[0m: plot_confusion_matrix() got an unexpected keyword argument 'classes'"
     ]
    }
   ],
   "source": [
    "from sklearn.metrics import plot_confusion_matrix\n",
    "import pandas as pd\n",
    "n = confusion_matrix(yatest2, yhat2)\n",
    "plot_confusion_matrix(n, classes = ['Dead cat', 'Alive cat'], \n",
    "title = 'Confusion Matrix');"
   ]
  },
  {
   "cell_type": "code",
   "execution_count": null,
   "metadata": {},
   "outputs": [],
   "source": []
  }
 ],
 "metadata": {
  "kernelspec": {
   "display_name": "Python 3 (ipykernel)",
   "language": "python",
   "name": "python3"
  },
  "language_info": {
   "codemirror_mode": {
    "name": "ipython",
    "version": 3
   },
   "file_extension": ".py",
   "mimetype": "text/x-python",
   "name": "python",
   "nbconvert_exporter": "python",
   "pygments_lexer": "ipython3",
   "version": "3.11.5"
  }
 },
 "nbformat": 4,
 "nbformat_minor": 4
}
